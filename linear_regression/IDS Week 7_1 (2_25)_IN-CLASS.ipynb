{
 "cells": [
  {
   "cell_type": "markdown",
   "metadata": {
    "id": "tSYyrxq5csQJ"
   },
   "source": [
    "# Supervised Machine Learning: Linear Regression"
   ]
  },
  {
   "cell_type": "markdown",
   "metadata": {
    "id": "SvloYQVhZzGh"
   },
   "source": [
    "## Linear Regression: Unscaled vs. Scaled Data\n",
    "In this demo, we follow the ML process:\n",
    "1. **Remember:** Load and inspect the data.\n",
    "2. **Formulate:** Build a linear regression model first on raw (unscaled) data.\n",
    "3. **Predict:** Evaluate the model's performance.\n",
    "\n",
    "Then we apply feature scaling and rebuild the model to compare results.\n",
    "We use the Student Performance dataset from Kaggle to predict the \"Performance Index\" of students."
   ]
  },
  {
   "cell_type": "code",
   "execution_count": null,
   "metadata": {
    "id": "KR7yBXm0Hltx"
   },
   "outputs": [],
   "source": [
    "# import neccesary libraries\n",
    "import pandas as pd\n",
    "import numpy as np\n",
    "\n",
    "# Download data from Kaggle\n",
    "!kaggle datasets download -d nikhil7280/student-performance-multiple-linear-regression\n",
    "!unzip student-performance-multiple-linear-regression.zip\n",
    "\n",
    "# Import dataframe\n",
    "df = pd.read_csv(\"Student_Performance.csv\")\n",
    "df"
   ]
  },
  {
   "cell_type": "code",
   "execution_count": null,
   "metadata": {
    "id": "EsIxmUI-Wo0O"
   },
   "outputs": [],
   "source": [
    "# Convert extracurricular activities to numeric\n",
    "\n",
    "# Define the features and target variable based on the dataset\n",
    "\n",
    "\n",
    "# Display a preview of the dataset\n"
   ]
  },
  {
   "cell_type": "markdown",
   "metadata": {
    "id": "bVk3NAYM5wbe"
   },
   "source": [
    "## Part 1: Linear Regression on Unscaled Data\n",
    "In this section, we build a [linear regression](https://scikit-learn.org/stable/modules/generated/sklearn.linear_model.LinearRegression.html#sklearn.linear_model.LinearRegression.fit) model on the raw data.\n",
    "This helps us see the effect of differing scales on the coefficients.\n",
    "We start by [spliting our data into training and testing sets](https://scikit-learn.org/stable/modules/generated/sklearn.model_selection.train_test_split.html#sklearn.model_selection.train_test_split)."
   ]
  },
  {
   "cell_type": "code",
   "execution_count": null,
   "metadata": {
    "id": "xV6-TqL951SG"
   },
   "outputs": [],
   "source": [
    "\n",
    "\n",
    "# Split the raw data (80% training, 20% testing)\n",
    "\n",
    "# Initialize and train the linear regression model on unscaled data\n",
    "\n",
    "\n",
    "# Make predictions on the test set\n"
   ]
  },
  {
   "cell_type": "code",
   "execution_count": null,
   "metadata": {
    "id": "sUb4UOJa6ALE"
   },
   "outputs": [],
   "source": [
    "\n",
    "# Evaluate model performance\n",
    "\n"
   ]
  },
  {
   "cell_type": "markdown",
   "metadata": {
    "id": "cUldxWi0BKGl"
   },
   "source": [
    "### Notes on Unscaled Model:\n",
    "- **Coefficients (Unscaled):**\n",
    "    - Each coefficient represents the change in the Performance Index for a one-unit change in the respective feature, holding all other features constant.\n",
    "    - For example, if \"Hours Studied\" has a coefficient of 2.85, it implies that for each additional hour studied, the Performance Index increases by 2.85 points (assuming other factors remain constant).\n",
    "    - However, because features are in different units (e.g., hours vs. scores), comparing these coefficients directly may be misleading.\n",
    "\n",
    "- **R² Score:**\n",
    "    - This metric indicates the proportion of the variance in the target variable explained by the model.\n",
    "    - An R² close to 1 suggests a very good fit, while an R² near 0 indicates the model fails to capture much variance.\n",
    "\n",
    "- **MSE & RMSE:**\n",
    "    - MSE measures the average squared difference between actual and predicted values.\n",
    "    - RMSE, being the square root of MSE, gives an error metric in the same units as the target.\n",
    "    - Lower RMSE values indicate better predictive performance."
   ]
  },
  {
   "cell_type": "code",
   "execution_count": null,
   "metadata": {
    "id": "ZB2zO71yBHyG"
   },
   "outputs": [],
   "source": [
    "# View our model's coefficients\n"
   ]
  },
  {
   "cell_type": "markdown",
   "metadata": {
    "id": "cqTyCRrOSxTL"
   },
   "source": [
    "### Manually Computing a Prediction from Our Model\n",
    "- In this section, we'll calculate a predicted value by hand (i.e., by multiplying the model's coefficients by the original feature values and adding the intercept).\n",
    "- This mirrors exactly what the model does internally.\n",
    "\n",
    "- **Why is this helpful?**\n",
    "   - It reinforces how linear regression makes its predictions using the equation: `prediction = intercept + (coef_1 * x_1) + (coef_2 * x_2) + ...`\n",
    "   - It helps us see the individual impact of each feature on the final prediction.\n",
    "   - It confirms that the manual approach matches the `model.predict()` output."
   ]
  },
  {
   "cell_type": "markdown",
   "metadata": {
    "id": "WZ7xL8YDTYGd"
   },
   "source": [
    "#### 1. Extract the coefficients and intercept from our trained model"
   ]
  },
  {
   "cell_type": "code",
   "execution_count": null,
   "metadata": {
    "id": "uP4ggD8mRLby"
   },
   "outputs": [],
   "source": []
  },
  {
   "cell_type": "markdown",
   "metadata": {
    "id": "IENlzHSLTV16"
   },
   "source": [
    "#### 2. Select a single row of our data (e.g., the second row)\n",
    "- We select only the columns that were used as features in our model.\n",
    "- The row's values represent the actual data for Hours Studied, Previous Scores, etc."
   ]
  },
  {
   "cell_type": "code",
   "execution_count": null,
   "metadata": {
    "id": "PR91MrnMQuE7"
   },
   "outputs": [],
   "source": []
  },
  {
   "cell_type": "markdown",
   "metadata": {
    "id": "31cUy0iJTpy5"
   },
   "source": [
    "#### 3. Compute the manual prediction"
   ]
  },
  {
   "cell_type": "code",
   "execution_count": null,
   "metadata": {
    "id": "GHIjwmBvSTNz"
   },
   "outputs": [],
   "source": []
  },
  {
   "cell_type": "markdown",
   "metadata": {
    "id": "3EMoNVUxTwSZ"
   },
   "source": [
    "**Explanation:**\n",
    "- We multiply each feature value by its corresponding coefficient and sum them up.\n",
    "- Then, we add the intercept.\n",
    "- This is precisely the linear regression equation:\n",
    "$$\n",
    "\\hat{y} = \\beta_0 + \\beta_1 x_1 + \\beta_2 x_2 + \\dots + \\beta_n x_n\n",
    "$$\n",
    "\n",
    "Where:\n",
    " - $\\beta_0$ is the intercept\n",
    " - $\\beta_i$ is the coefficient for feature $x_i$\n",
    "\n",
    " Thus, `manual_prediction` should match what the model would predict internally."
   ]
  },
  {
   "cell_type": "markdown",
   "metadata": {
    "id": "LcSqpjAUUygV"
   },
   "source": [
    "#### 4. Compare to `model.predict()` for confirmation"
   ]
  },
  {
   "cell_type": "code",
   "execution_count": null,
   "metadata": {
    "id": "1x95-XjDU0U4"
   },
   "outputs": [],
   "source": []
  },
  {
   "cell_type": "markdown",
   "metadata": {
    "id": "c3SQz1XiVQti"
   },
   "source": [
    "### **Observation:**\n",
    "- The `manual_prediction` and `model_prediction` should be nearly identical (up to minor floating-point differences).\n",
    "- If they match, we've confirmed our understanding of how the model uses coefficients and intercept to make a prediction.\n",
    "\n",
    "### Why This Matters\n",
    "- **Transparency:** It shows exactly how each feature influences the final predicted value.\n",
    "- **Verification:** Confirms our \"manual\" math aligns with the model's internal computation.\n",
    "- **Interpretability:** By inspecting the coefficients, we see which features have the biggest impact (positive or negative) on the Performance Index, and we can discuss whether the magnitudes make sense given the domain context."
   ]
  },
  {
   "cell_type": "markdown",
   "metadata": {
    "id": "0u3A7-UF6Fa6"
   },
   "source": [
    "## Part 2: Linear Regression on Scaled Data\n",
    "Now we apply feature scaling using StandardScaler and rebuild the model.\n",
    "Scaling brings all features to a similar scale, which aids in the interpretation of the coefficients."
   ]
  },
  {
   "cell_type": "code",
   "execution_count": null,
   "metadata": {
    "id": "u891WVe05rk0"
   },
   "outputs": [],
   "source": []
  },
  {
   "cell_type": "markdown",
   "metadata": {
    "id": "u-_4BofGByvU"
   },
   "source": [
    "### Notes on Scaled Model:\n",
    "- **Coefficients (Scaled):**\n",
    "    - After scaling, each coefficient indicates the change in the Performance Index for a one standard deviation change in that feature.\n",
    "    - This standardization makes it easier to compare the relative importance of features.\n",
    "    - For example, a higher coefficient means that feature has a larger effect on the target, per standard deviation change.\n",
    "\n",
    "- **R² and RMSE Comparison:**\n",
    "    - Often the overall performance metrics (R² and RMSE) do not change dramatically after scaling for linear regression.\n",
    "    - However, scaling is essential for interpreting the model coefficients correctly, especially when features are on different scales.\n",
    "    - It is also a critical preprocessing step for many other algorithms."
   ]
  },
  {
   "cell_type": "markdown",
   "metadata": {
    "id": "TSFowtR16PYv"
   },
   "source": [
    "# Conclusion\n",
    "In this demo, we:\n",
    "- Built and evaluated a linear regression model on unscaled data.\n",
    "- Re-trained the model after applying feature scaling.\n",
    "- Observed that while overall performance metrics (**MSE** and **R²**) may be similar, scaling is crucial for the interpretability of model coefficients and for ensuring that features contribute in a balanced way.\n",
    "  \n",
    "### Key Takeaways:\n",
    "- **Coefficients:** On unscaled data, coefficients are tied to the original units, which can be hard to compare.\n",
    "  After scaling, coefficients represent the effect of a one standard deviation change in the feature.\n",
    "- **R² Score:** Reflects the proportion of variance in the target variable explained by the model.\n",
    "- **MSE (and RMSE):** Lower values indicate better model performance; RMSE provides an error measure in the target's units.\n",
    "\n",
    "This process reflects the \"remember-formulate-predict\" approach in machine learning."
   ]
  }
 ],
 "metadata": {
  "colab": {
   "authorship_tag": "ABX9TyMIuOP6xGwid/ONBgem6psZ",
   "provenance": [],
   "toc_visible": true
  },
  "kernelspec": {
   "display_name": "base",
   "language": "python",
   "name": "python3"
  },
  "language_info": {
   "name": "python",
   "version": "3.12.7"
  }
 },
 "nbformat": 4,
 "nbformat_minor": 0
}
