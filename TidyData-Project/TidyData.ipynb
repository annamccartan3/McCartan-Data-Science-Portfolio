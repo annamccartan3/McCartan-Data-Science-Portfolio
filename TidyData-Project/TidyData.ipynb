{
 "cells": [
  {
   "cell_type": "markdown",
   "metadata": {},
   "source": [
    "### Welcome to **Gold Standard**!\n",
    "This notebook provides a walkthrough for importing, tidying, and visualizing data from the [**2008 Olympic Games**](https://edjnet.github.io/OlympicsGoNUTS/2008/). Install the necessary dependencies and download adapted data by following the instructions on [**Github**](https://github.com/annamccartan3/MCCARTAN-Data-Science-Portfolio/tree/main/TidyData-Project). Then return to explore the top performers of 2008!"
   ]
  },
  {
   "cell_type": "code",
   "execution_count": null,
   "metadata": {},
   "outputs": [],
   "source": [
    "# import necessary libraries\n",
    "import pandas as pd\n",
    "\n",
    "# import the untidy dataset\n",
    "raw_data = pd.read_csv('data/olympics08.csv')"
   ]
  }
 ],
 "metadata": {
  "kernelspec": {
   "display_name": "base",
   "language": "python",
   "name": "python3"
  },
  "language_info": {
   "codemirror_mode": {
    "name": "ipython",
    "version": 3
   },
   "file_extension": ".py",
   "mimetype": "text/x-python",
   "name": "python",
   "nbconvert_exporter": "python",
   "pygments_lexer": "ipython3",
   "version": "3.12.7"
  }
 },
 "nbformat": 4,
 "nbformat_minor": 2
}
